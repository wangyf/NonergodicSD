{
 "cells": [
  {
   "cell_type": "code",
   "execution_count": null,
   "id": "639090e5",
   "metadata": {},
   "outputs": [],
   "source": [
    "#libraries\n",
    "library(pracma)\n",
    "library(ggplot2)\n",
    "library(maps) \n",
    "#user functions\n",
    "source('R_lib/regression/inla/regression_inla_model1_unbounded_hyp.R')"
   ]
  },
  {
   "cell_type": "code",
   "execution_count": null,
   "id": "5ce5b795",
   "metadata": {},
   "outputs": [],
   "source": [
    "#regression name\n",
    "reg_name  <- 'SD_regression_ds1_inla'\n",
    "\n",
    "#regression dataset\n",
    "flatfile_fname <- 'data/new_SD_PGA.csv'\n",
    "\n",
    "#output directory\n",
    "dir_out <- 'data/SD_ds1_inla/'\n",
    "\n",
    "#INLA regression parameters\n",
    "runinla_flag <- TRUE # TRUE or FALSE\n",
    "res_name     <- 'PGA'\n",
    "\n",
    "#mesh coarseness\n",
    "# #fine\n",
    "# mesh_edge_max     <- 5\n",
    "# mesh_inner_offset <- 15\n",
    "# mesh_outer_offset <- 15\n",
    "# #medium\n",
    "# mesh_edge_max     <- 15\n",
    "# mesh_inner_offset <- 15\n",
    "# mesh_outer_offset <- 50\n",
    "#coarse\n",
    "mesh_edge_max     <- 50\n",
    "mesh_inner_offset <- 50\n",
    "mesh_outer_offset <- 150\n",
    "\n",
    "#approximation options\n",
    "# if flag_gp_approx=TRUE uses int.strategy=\"eb\" and strategy=\"gaussian\"\n",
    "# int.strategy=\"eb\" corresponds to one integration point, and \n",
    "# strategy=\"gaussian\" approximates posteriors as gaussian distributions\n",
    "flag_gp_approx <- TRUE # TRUE or FALSE\n",
    "\n",
    "#number of threads\n",
    "# reduce number of threads if running out of memmory, if not specified\n",
    "# number of CPU threads is used\n",
    "n_threads <- 8"
   ]
  },
  {
   "cell_type": "code",
   "execution_count": null,
   "id": "ebdd58f3",
   "metadata": {},
   "outputs": [],
   "source": [
    "#load flatfile\n",
    "utmzone = '10n'\n",
    "df_flatfile <- read.csv(flatfile_fname)\n",
    "names(df_flatfile) <- c('eqid','date','eqlat','eqlon','dep','mag','SD','SDD','Site','R','Vs30','Vs30class','PGA','stalat','stalon')\n",
    "df_flatfile$ssn <- df_flatfile$Site\n",
    "df_flatfile$UTMzone <- utmzone #north california\n",
    "\n",
    "eqx<-LongLatToUTM(df_flatfile$eqlat,df_flatfile$eqlon,utmzone)\n",
    "df_flatfile$eqX <- eqx[,'X']\n",
    "df_flatfile$eqY <- eqx[,'Y']\n",
    "\n",
    "stax<-LongLatToUTM(df_flatfile$stalat,df_flatfile$stalon,utmzone)\n",
    "df_flatfile$staX <- stax[,'X']\n",
    "df_flatfile$staY <- stax[,'Y']\n",
    "\n",
    "df_flatfile"
   ]
  },
  {
   "cell_type": "code",
   "execution_count": null,
   "id": "07bb9c73",
   "metadata": {},
   "outputs": [],
   "source": [
    "#run INLA model\n",
    "out_fname <- reg_name\n",
    "\n",
    "\n",
    "\n",
    "# Preprocess Input Data\n",
    "# ---------------------------\n",
    "n_data <- nrow(df_flatfile)\n",
    "#earthquake data\n",
    "data_eq_all <- df_flatfile[,c('eqid','mag','eqX', 'eqY')]\n",
    "out_unq  <- UniqueIdxInv(df_flatfile[,'eqid'])\n",
    "eq_idx   <- out_unq$idx\n",
    "eq_inv   <- out_unq$inv\n",
    "data_eq  <- data_eq_all[eq_idx,]\n",
    "X_eq     <- data_eq[,c(3,4)] #earthquake coordinates\n",
    "X_eq_all <- data_eq_all[,c(3,4)]\n",
    "#create earthquake ids for all records (1 to n_eq)\n",
    "eq_id <- eq_inv\n",
    "n_eq  <- nrow(data_eq)\n",
    "  \n"
   ]
  },
  {
   "cell_type": "code",
   "execution_count": null,
   "id": "cbc5f424",
   "metadata": {},
   "outputs": [],
   "source": [
    "#station data\n",
    "data_sta_all <- df_flatfile[,c('ssn','Vs30','staX','staY')]\n",
    "out_unq   <- UniqueIdxInv(df_flatfile[,'ssn'])\n",
    "sta_idx   <- out_unq$idx\n",
    "sta_inv   <- out_unq$inv\n",
    "data_sta  <- data_sta_all[sta_idx,]\n",
    "X_sta     <- data_sta[,c(3,4)] #station coordinates\n",
    "X_sta_all <- data_sta_all[,c(3,4)]\n",
    "#create station indices for all records (1 to n_sta)\n",
    "sta_id <- sta_inv\n",
    "n_sta  <- nrow(data_sta)"
   ]
  },
  {
   "cell_type": "code",
   "execution_count": null,
   "id": "3390b96f",
   "metadata": {},
   "outputs": [],
   "source": [
    "#ground-motion observations  \n",
    "y_data <- df_flatfile[,res_name]"
   ]
  },
  {
   "cell_type": "code",
   "execution_count": null,
   "id": "99fc9eb4",
   "metadata": {},
   "outputs": [],
   "source": [
    "#UTM zone\n",
    "utm_zone <- unique(df_flatfile$UTMzone)\n",
    "utm_no   <- as.numeric(gsub(\"([0-9]+).*$\", \"\\\\1\", utm_zone))"
   ]
  },
  {
   "cell_type": "code",
   "execution_count": null,
   "id": "94581c3a",
   "metadata": {},
   "outputs": [],
   "source": [
    "# Run INLA, fit model \n",
    "# ---------------------------\n",
    "#fixed effects \n",
    "#---   ---   ---   ---   ---   ---\n",
    "#prior on the fixed effects\n",
    "prior_fixed <- list(mean.intercept = 0, prec.intercept = 5,\n",
    "                    mean = (list(intcp=0.0, default=0)),\n",
    "                    prec = (list(intcp=5.0, default=0.01)))\n",
    "\n",
    "#covariates\n",
    "df_inla_covar <- data.frame(intcp = 1, eq = eq_id, sta = sta_id)"
   ]
  },
  {
   "cell_type": "code",
   "execution_count": null,
   "id": "bf57a059",
   "metadata": {},
   "outputs": [],
   "source": [
    "#spatial model\n",
    "#---   ---   ---   ---   ---   ---\n",
    "#input arguments\n",
    "edge_max     <- mesh_edge_max\n",
    "inner_offset <- mesh_inner_offset\n",
    "outer_offset <- mesh_outer_offset\n",
    "\n",
    "#domain mesh\n",
    "mesh <- inla.mesh.2d(loc=rbind(as.matrix(X_eq),as.matrix(X_sta)) ,\n",
    "                    max.edge = c(1,5)*edge_max,\n",
    "                    cutoff = 3, offset = c(inner_offset, outer_offset))"
   ]
  },
  {
   "cell_type": "code",
   "execution_count": null,
   "id": "de55b6be",
   "metadata": {},
   "outputs": [],
   "source": []
  }
 ],
 "metadata": {
  "kernelspec": {
   "display_name": "R",
   "language": "R",
   "name": "ir"
  },
  "language_info": {
   "codemirror_mode": "r",
   "file_extension": ".r",
   "mimetype": "text/x-r-source",
   "name": "R",
   "pygments_lexer": "r",
   "version": "3.6.3"
  }
 },
 "nbformat": 4,
 "nbformat_minor": 5
}
