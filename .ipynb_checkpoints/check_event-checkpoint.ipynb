{
 "cells": [
  {
   "cell_type": "code",
   "execution_count": 80,
   "id": "676688bc",
   "metadata": {},
   "outputs": [],
   "source": [
    "#libraries\n",
    "library(pracma)\n",
    "library(ggplot2)\n",
    "library(maps) \n",
    "library(patchwork)\n",
    "library(dplyr)\n",
    "library(ggnewscale)"
   ]
  },
  {
   "cell_type": "code",
   "execution_count": 32,
   "id": "0e4a1a63",
   "metadata": {},
   "outputs": [],
   "source": [
    "rm(list = ls())\n",
    "\n",
    "setwd(\"/home/yow004/Documents/GitHub/NonergodicSD\")\n",
    "\n",
    "#user functions\n",
    "source('R_lib/regression/inla/regression_inla_model1_unbounded_hyp.R')"
   ]
  },
  {
   "cell_type": "code",
   "execution_count": 33,
   "id": "259550c0",
   "metadata": {},
   "outputs": [],
   "source": [
    "#input file\n",
    "flatfile_fname <- 'data/compile_all.csv'\n",
    "\n",
    "df_flatfile <- read.csv(flatfile_fname)\n",
    "\n",
    "  #UTM zone\n",
    "  utm_zone <- unique(df_flatfile$UTMzone)\n",
    "  utm_no   <- as.numeric(gsub(\"([0-9]+).*$\", \"\\\\1\", utm_zone))"
   ]
  },
  {
   "cell_type": "code",
   "execution_count": 68,
   "id": "6e72d072",
   "metadata": {},
   "outputs": [],
   "source": [
    "#event index\n",
    "event<-df_flatfile %>% group_by(eqid) %>% filter(row_number()==1)\n",
    "\n",
    "#station index\n",
    "station<-df_flatfile %>% group_by(Site) %>% filter(row_number()==1)"
   ]
  },
  {
   "cell_type": "code",
   "execution_count": 89,
   "id": "c639816e",
   "metadata": {},
   "outputs": [
    {
     "name": "stderr",
     "output_type": "stream",
     "text": [
      "ERROR while rich displaying an object: Error in FUN(X[[i]], ...): object 'sig' not found\n",
      "\n",
      "Traceback:\n",
      "1. tryCatch(withCallingHandlers({\n",
      " .     if (!mime %in% names(repr::mime2repr)) \n",
      " .         stop(\"No repr_* for mimetype \", mime, \" in repr::mime2repr\")\n",
      " .     rpr <- repr::mime2repr[[mime]](obj)\n",
      " .     if (is.null(rpr)) \n",
      " .         return(NULL)\n",
      " .     prepare_content(is.raw(rpr), rpr)\n",
      " . }, error = error_handler), error = outer_handler)\n",
      "2. tryCatchList(expr, classes, parentenv, handlers)\n",
      "3. tryCatchOne(expr, names, parentenv, handlers[[1L]])\n",
      "4. doTryCatch(return(expr), name, parentenv, handler)\n",
      "5. withCallingHandlers({\n",
      " .     if (!mime %in% names(repr::mime2repr)) \n",
      " .         stop(\"No repr_* for mimetype \", mime, \" in repr::mime2repr\")\n",
      " .     rpr <- repr::mime2repr[[mime]](obj)\n",
      " .     if (is.null(rpr)) \n",
      " .         return(NULL)\n",
      " .     prepare_content(is.raw(rpr), rpr)\n",
      " . }, error = error_handler)\n",
      "6. repr::mime2repr[[mime]](obj)\n",
      "7. repr_text.default(obj)\n",
      "8. paste(capture.output(print(obj)), collapse = \"\\n\")\n",
      "9. capture.output(print(obj))\n",
      "10. evalVis(expr)\n",
      "11. withVisible(eval(expr, pf))\n",
      "12. eval(expr, pf)\n",
      "13. eval(expr, pf)\n",
      "14. print(obj)\n",
      "15. print.patchwork(obj)\n",
      "16. build_patchwork(plot, plot$layout$guides %||% \"auto\")\n",
      "17. lapply(x$plots, plot_table, guides = guides)\n",
      "18. FUN(X[[i]], ...)\n",
      "19. plot_table.ggplot(X[[i]], ...)\n",
      "20. ggplotGrob(x)\n",
      "21. ggplot_gtable(ggplot_build(x))\n",
      "22. ggplot_build(x)\n",
      "23. ggplot_build.ggplot(x)\n",
      "24. by_layer(function(l, d) l$compute_aesthetics(d, plot))\n",
      "25. f(l = layers[[i]], d = data[[i]])\n",
      "26. l$compute_aesthetics(d, plot)\n",
      "27. f(..., self = self)\n",
      "28. lapply(aesthetics, eval_tidy, data = data, env = env)\n",
      "29. FUN(X[[i]], ...)\n"
     ]
    }
   ],
   "source": [
    "options(repr.plot.width=20, repr.plot.height=10)\n",
    "\n",
    "#California\n",
    "map_ca <- subset( map_data(\"state\"), region %in% c(\"california\"))\n",
    "map_ca_utm <- LongLatToUTM(lat=map_ca$lat, lon=map_ca$long, utm_no)\n",
    "map_ca[,c('X','Y')] <- map_ca_utm[,c('X','Y')]/1000\n",
    "\n",
    "#Earthquake - Station Mesh\n",
    "  pl_mesh  <- ggplot() + theme_bw() + \n",
    "              geom_path(data=map_ca, aes(x=X,y=Y), color='black',size=1) +\n",
    "              #geom_point(data=df_flatfile, aes(x=eqX,y=eqY),size=0.5,color='red') +\n",
    "              labs(x=\"X (km)\", y=\"Y (km)\") + coord_fixed(ratio = 1) + \n",
    "              xlim(500,650) + ylim(4050,4300) \n",
    "#geom_point(data=station, aes(x=staX,y=staY,color=Vs30),size=5,shape=17)+scico::scale_colour_scico(palette = 'acton') + new_scale_color()\n",
    "              \n",
    "\n",
    "cmap<-\"vikO\"\n",
    "zlim<-c(-1,1)\n",
    "dic<- 1\n",
    "\n",
    "p1 <- pl_mesh+geom_point(data=event, aes(x=eqX,y=eqY,color=SD),size=1) +scico::scale_colour_scico(palette = \"roma\",limits=zlim,direction=dic)\n",
    "p2 <- pl_mesh+geom_point(data=event, aes(x=eqX,y=eqY,color=event_term_1),size=1) +scico::scale_colour_scico(palette = cmap,limits=zlim,direction=dic)\n",
    "p3 <- pl_mesh+geom_point(data=event, aes(x=eqX,y=eqY,color=event_term_2),size=1) +scico::scale_colour_scico(palette = cmap,limits=zlim,direction=dic)\n",
    "p4 <- pl_mesh+geom_point(data=event, aes(x=eqX,y=eqY,color=event_term_3),size=1) +scico::scale_colour_scico(palette = cmap,limits=zlim,direction=dic)\n",
    "\n",
    "\n",
    "p1+p2 + p3+p4+ plot_layout(ncol = 4)\n",
    "\n"
   ]
  },
  {
   "cell_type": "code",
   "execution_count": null,
   "id": "d9fd51f7",
   "metadata": {},
   "outputs": [],
   "source": []
  },
  {
   "cell_type": "code",
   "execution_count": null,
   "id": "05f7e2a6",
   "metadata": {},
   "outputs": [],
   "source": []
  }
 ],
 "metadata": {
  "kernelspec": {
   "display_name": "R",
   "language": "R",
   "name": "ir"
  },
  "language_info": {
   "codemirror_mode": "r",
   "file_extension": ".r",
   "mimetype": "text/x-r-source",
   "name": "R",
   "pygments_lexer": "r",
   "version": "3.6.3"
  }
 },
 "nbformat": 4,
 "nbformat_minor": 5
}
