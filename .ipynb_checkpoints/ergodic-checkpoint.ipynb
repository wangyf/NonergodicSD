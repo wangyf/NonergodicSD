{
 "cells": [
  {
   "cell_type": "code",
   "execution_count": 1,
   "id": "4f9a8bf1",
   "metadata": {},
   "outputs": [
    {
     "name": "stderr",
     "output_type": "stream",
     "text": [
      "Loading required package: Matrix\n",
      "\n",
      "Loading required package: sp\n",
      "\n",
      "Loading required package: parallel\n",
      "\n",
      "Loading required package: foreach\n",
      "\n",
      "This is INLA_20.03.17 built 2022-09-30 01:15:10 UTC.\n",
      "See www.r-inla.org/contact-us for how to get help.\n",
      "To enable PARDISO sparse library; see inla.pardiso()\n",
      "\n",
      "\n",
      "Attaching package: ‘dplyr’\n",
      "\n",
      "\n",
      "The following objects are masked from ‘package:stats’:\n",
      "\n",
      "    filter, lag\n",
      "\n",
      "\n",
      "The following objects are masked from ‘package:base’:\n",
      "\n",
      "    intersect, setdiff, setequal, union\n",
      "\n",
      "\n"
     ]
    }
   ],
   "source": [
    "library(ggplot2)\n",
    "library(patchwork)\n",
    "library(INLA)\n",
    "library(dplyr)\n",
    "library(lme4)\n",
    "library(\"ggpubr\")"
   ]
  },
  {
   "cell_type": "code",
   "execution_count": null,
   "id": "e6320d56",
   "metadata": {},
   "outputs": [],
   "source": [
    "rm(list = ls())\n",
    "\n",
    "setwd(\"/home/yow004/Projects/NonergodicSD\")\n",
    "\n",
    "#flatfile_fname <- 'data/new_SD_PGA.csv'\n",
    "\n",
    "flatfile_fname<- \"/home/yow004/Projects/NonergodicSD/data/bayarea.groundmotion.fitted.csv\"\n",
    "source('R_lib/regression/inla/regression_inla_model1_unbounded_hyp.R')\n"
   ]
  },
  {
   "cell_type": "code",
   "execution_count": null,
   "id": "a6b482cc",
   "metadata": {},
   "outputs": [],
   "source": [
    "#load flatfile\n",
    "utmzone = 10\n",
    "df_flatfile <- read.csv(flatfile_fname)\n",
    "names(df_flatfile) <- c('eqid','date','eqlat','eqlon','eqZ','mag','SD','SDD','Site','R','Vs30','Vs30class','PGA','pPGA','qPGA','sPGA','stalat','stalon')\n",
    "df_flatfile$ssn <- df_flatfile$Site\n",
    "df_flatfile$UTMzone <- utmzone #north california\n",
    "\n",
    "#df_flatfile$PGA = df_flatfile$PGA/log(10)\n",
    "\n",
    "df_flatfile<- subset(df_flatfile,mag<6)\n",
    "\n",
    "eq<-LongLatToUTM(df_flatfile$eqlat,df_flatfile$eqlon,utmzone)\n",
    "df_flatfile[,c('eqX','eqY')] <- eq[,c('X','Y')]/1000\n",
    "\n",
    "sta<-LongLatToUTM(df_flatfile$stalat,df_flatfile$stalon,utmzone)\n",
    "df_flatfile[,c('staX','staY')] <- sta[,c('X','Y')]/1000\n",
    "\n",
    "# Preprocess Input Data\n",
    "# ---------------------------\n",
    "n_data <- nrow(df_flatfile)\n",
    "#earthquake data\n",
    "data_eq_all <- df_flatfile[,c('eqid','mag','eqX', 'eqY')]\n",
    "out_unq  <- UniqueIdxInv(df_flatfile[,'eqid'])\n",
    "eq_idx   <- out_unq$idx\n",
    "eq_inv   <- out_unq$inv\n",
    "data_eq  <- data_eq_all[eq_idx,]\n",
    "X_eq     <- data_eq[,c(3,4)] #earthquake coordinates\n",
    "X_eq_all <- data_eq_all[,c(3,4)]\n",
    "#create earthquake ids for all records (1 to n_eq)\n",
    "eq_id <- eq_inv\n",
    "n_eq  <- nrow(data_eq)\n",
    "\n",
    "\n",
    "\n",
    "#station data\n",
    "data_sta_all <- df_flatfile[,c('ssn','Vs30','staX','staY')]\n",
    "out_unq   <- UniqueIdxInv(df_flatfile[,'ssn'])\n",
    "sta_idx   <- out_unq$idx\n",
    "sta_inv   <- out_unq$inv\n",
    "data_sta  <- data_sta_all[sta_idx,]\n",
    "X_sta     <- data_sta[,c(3,4)] #station coordinates\n",
    "X_sta_all <- data_sta_all[,c(3,4)]\n",
    "#create station indices for all records (1 to n_sta)\n",
    "sta_id <- sta_inv\n",
    "n_sta  <- nrow(data_sta)\n",
    "\n",
    "##\n",
    "df_flatfile[,c('eq_id','sta_id')] = c(eq_id,sta_id)"
   ]
  },
  {
   "cell_type": "code",
   "execution_count": null,
   "id": "e6377d06",
   "metadata": {},
   "outputs": [],
   "source": [
    "#df <- na.omit(df_flatfile)\n",
    "df <- df_flatfile\n",
    "Vref = 760\n",
    "y     <- df[,'PGA']\n",
    "M     <- df[,'mag']\n",
    "M2    <- (8.5-M)**2\n",
    "R     <- df[,'R']\n",
    "lnRef <- log((R**2+4.5**2)**0.5)\n",
    "lnvs  <- log(df[,'Vs30']/Vref)\n",
    "eqid  <- df[,'eq_id']\n",
    "stid  <- df[,'sta_id']\n",
    "\n",
    "inladata <- data.frame(M,M2,lnRef,R,lnvs,y,eqid,stid)\n",
    "\n",
    "\n",
    "#event index\n",
    "event<-inladata %>% group_by(eqid) %>% filter(row_number()==1)\n",
    "dataM=event$M\n",
    "\n",
    "#station index\n",
    "station<-inladata %>% group_by(stid) %>% filter(row_number()==1)\n",
    "dataS=station$stid\n",
    "\n",
    "\n",
    "\n",
    "# Trugman's resutls\n",
    "event2<-df_flatfile %>% group_by(eq_id) %>% filter(row_number()==1)\n",
    "station2<-df_flatfile %>% group_by(sta_id) %>% filter(row_number()==1)\n",
    "\n",
    "pred_trugman<-df_flatfile$pPGA\n",
    "tot_trugman<-df_flatfile$PGA - df_flatfile$pPGA\n",
    "\n",
    "\n",
    "\n",
    "sig<-event2$SD\n",
    "dE_trugman<-event2$qPGA\n",
    "dS_trugman<-station2$sPGA\n",
    "\n"
   ]
  },
  {
   "cell_type": "code",
   "execution_count": null,
   "id": "eedd9a8e",
   "metadata": {},
   "outputs": [],
   "source": [
    "df_plot<-data.frame(dE_trugman,sig)\n",
    "res <- cor.test(df_plot$dE_trugman, df_plot$sig, \n",
    "                method = \"pearson\")\n",
    "res\n",
    "ggscatter(df_plot, x = \"dE_trugman\", y = \"sig\", \n",
    "              add = \"reg.line\", conf.int = FALSE, \n",
    "              cor.coef = TRUE, cor.method = \"pearson\",\n",
    "              xlab = \"Event Term\", ylab = \"Stress Drop\")"
   ]
  },
  {
   "cell_type": "markdown",
   "id": "1ef2969f",
   "metadata": {},
   "source": [
    "# use y ~ 1 + M + log(R) + dE + dW\n",
    "## Trugman and Shearer, 2018"
   ]
  },
  {
   "cell_type": "code",
   "execution_count": null,
   "id": "2f3d2ea6",
   "metadata": {},
   "outputs": [],
   "source": [
    "fit_inla0 <-inla(y ~ 1 + M + log(R) +\n",
    "                  f(eqid, model=\"iid\"), data=inladata,\n",
    "                num.threads = 4,quantiles = c(0.05,0.5,0.95),\n",
    "                control.predictor=list(compute=TRUE),verbose = TRUE)\n",
    "\n",
    "summary(fit_inla0)"
   ]
  },
  {
   "cell_type": "code",
   "execution_count": null,
   "id": "c36ffd97",
   "metadata": {},
   "outputs": [],
   "source": [
    "dB_0<-fit_inla0$summary.random$eqid\n",
    "#dS_0<-fit_inla0$summary.random$stid\n",
    "\n",
    "\n",
    "event_term_0<-matrix(nrow=nrow(inladata),ncol=1)\n",
    "for (i in 1:nrow(inladata)){\n",
    "  event_term_0[i,]<-dB_0$`0.5quant`[eq_id[i]]\n",
    "}\n",
    "\n",
    "dE_0 <- dB_0$`0.5quant`\n",
    "pred_fixed_0<-fit_inla0$summary.fitted.values$mean-event_term_0\n",
    "\n",
    "tot_0<-df_flatfile$PGA - pred_fixed_0"
   ]
  },
  {
   "cell_type": "code",
   "execution_count": null,
   "id": "ebb7a06b",
   "metadata": {},
   "outputs": [],
   "source": [
    "df_plot<-data.frame(dE_0,sig)\n",
    "res <- cor.test(df_plot$dE_0, df_plot$sig, \n",
    "                method = \"pearson\")\n",
    "res\n",
    "ggscatter(df_plot, x = \"dE_0\", y = \"sig\", \n",
    "              add = \"reg.line\", conf.int = FALSE, \n",
    "              cor.coef = TRUE, cor.method = \"pearson\",\n",
    "              xlab = \"Event Term\", ylab = \"Stress Drop\")"
   ]
  },
  {
   "cell_type": "markdown",
   "id": "450a3f0a",
   "metadata": {},
   "source": [
    "# use y ~ 1 + M + log(R) + dE + dS + dWes\n",
    "## Trugman and Shearer, 2018"
   ]
  },
  {
   "cell_type": "code",
   "execution_count": null,
   "id": "01a76ac0",
   "metadata": {},
   "outputs": [],
   "source": [
    "fit_inla1 <-inla(y ~ 1 + M + log(R) +\n",
    "                  f(eqid, model=\"iid\") + f(stid, model=\"iid\"), data=inladata,\n",
    "                num.threads = 4,quantiles = c(0.05,0.5,0.95),\n",
    "                control.predictor=list(compute=TRUE),verbose = TRUE)\n",
    "\n",
    "summary(fit_inla1)"
   ]
  },
  {
   "cell_type": "code",
   "execution_count": null,
   "id": "9450ecb8",
   "metadata": {},
   "outputs": [],
   "source": [
    "dB_1<-fit_inla1$summary.random$eqid\n",
    "dS_1<-fit_inla1$summary.random$stid\n",
    "\n",
    "dET_1 <- dB_1$`0.5quant`\n",
    "dST_1 <- dS_1$`0.5quant`\n",
    "\n",
    "event_term_1<-matrix(nrow=nrow(inladata),ncol=1)\n",
    "station_term_1<-matrix(nrow=nrow(inladata),ncol=1)\n",
    "\n",
    "for (i in 1:nrow(inladata)){\n",
    "  event_term_1[i,]<-dET_1[eq_id[i]]\n",
    "  station_term_1[i,]<-dST_1[sta_id[i]]\n",
    "}\n",
    "\n",
    "pred_fixed_1<-fit_inla1$summary.fitted.values$mean-event_term_1-station_term_1\n",
    "\n",
    "tot_1<-df_flatfile$PGA - pred_fixed_1\n"
   ]
  },
  {
   "cell_type": "code",
   "execution_count": null,
   "id": "2ea064d7",
   "metadata": {},
   "outputs": [],
   "source": [
    "df_plot<-data.frame(dET_1,sig)\n",
    "res <- cor.test(df_plot$dET_1, df_plot$sig, \n",
    "                method = \"pearson\")\n",
    "res\n",
    "ggscatter(df_plot, x = \"dET_1\", y = \"sig\", \n",
    "              add = \"reg.line\", conf.int = FALSE, \n",
    "              cor.coef = TRUE, cor.method = \"pearson\",\n",
    "              xlab = \"Event Term\", ylab = \"Stress Drop\")"
   ]
  },
  {
   "cell_type": "markdown",
   "id": "5f22e3f9",
   "metadata": {},
   "source": [
    "# used a more sophisicated ergodic ground motion model\n",
    "## equation-1 in Sahakian et al., 2018\n",
    "## f_erg + dE + dW"
   ]
  },
  {
   "cell_type": "code",
   "execution_count": null,
   "id": "0adbcf18",
   "metadata": {},
   "outputs": [],
   "source": [
    "fit_inla2 <-inla(y ~ 1 + M + M2 + lnRef + R + lnvs +\n",
    "                   f(eqid, model=\"iid\"), data=inladata,\n",
    "                 num.threads = 1,quantiles = c(0.05,0.5,0.95),\n",
    "                 control.predictor=list(compute=TRUE),verbose = TRUE)\n",
    "\n",
    "summary(fit_inla2)"
   ]
  },
  {
   "cell_type": "code",
   "execution_count": null,
   "id": "09cdba9f",
   "metadata": {},
   "outputs": [],
   "source": [
    "dB_2<-fit_inla2$summary.random$eqid\n",
    "\n",
    "dET_2 <- dB_2$`0.5quant`\n",
    "\n",
    "event_term_2<-matrix(nrow=nrow(inladata),ncol=1)\n",
    "\n",
    "for (i in 1:nrow(inladata)){\n",
    "  event_term_2[i,]<-dET_2[eq_id[i]]\n",
    "}\n",
    "\n",
    "pred_fixed_2<-fit_inla2$summary.fitted.values$mean-event_term_2\n",
    "\n",
    "tot_2<-df_flatfile$PGA - pred_fixed_2"
   ]
  },
  {
   "cell_type": "code",
   "execution_count": null,
   "id": "1bdf9f35",
   "metadata": {},
   "outputs": [],
   "source": [
    "df_plot<-data.frame(dET_2,sig)\n",
    "res <- cor.test(df_plot$dET_2, df_plot$sig, \n",
    "                method = \"pearson\")\n",
    "res\n",
    "ggscatter(df_plot, x = \"dET_2\", y = \"sig\", \n",
    "              add = \"reg.line\", conf.int = FALSE, \n",
    "              cor.coef = TRUE, cor.method = \"pearson\",\n",
    "              xlab = \"Event Term\", ylab = \"Stress Drop\")"
   ]
  },
  {
   "cell_type": "markdown",
   "id": "6f1959de",
   "metadata": {},
   "source": [
    "# used a more sophisicated ergodic ground motion model\n",
    "## equation-1 in Sahakian et al., 2018\n",
    "## f_erg + dE + dS + dW"
   ]
  },
  {
   "cell_type": "code",
   "execution_count": null,
   "id": "d517fab9",
   "metadata": {},
   "outputs": [],
   "source": [
    "fit_inla3 <-inla(y ~ 1 + M + M2 + lnRef + R + lnvs +\n",
    "                   f(eqid, model=\"iid\") + f(stid, model=\"iid\"), data=inladata,\n",
    "                 num.threads = 1,quantiles = c(0.05,0.5,0.95),\n",
    "                 control.predictor=list(compute=TRUE),verbose = TRUE)\n",
    "\n",
    "summary(fit_inla3)"
   ]
  },
  {
   "cell_type": "code",
   "execution_count": null,
   "id": "a0ad6e1e",
   "metadata": {},
   "outputs": [],
   "source": [
    "dB_3<-fit_inla3$summary.random$eqid\n",
    "dS_3<-fit_inla3$summary.random$stid\n",
    "\n",
    "dET_3 <- dB_3$`0.5quant`\n",
    "dST_3 <- dS_3$`0.5quant`\n",
    "\n",
    "event_term_3<-matrix(nrow=nrow(inladata),ncol=1)\n",
    "station_term_3<-matrix(nrow=nrow(inladata),ncol=1)\n",
    "\n",
    "for (i in 1:nrow(inladata)){\n",
    "  event_term_3[i,]<-dET_3[eq_id[i]]\n",
    "  station_term_3[i,]<-dST_3[sta_id[i]]\n",
    "}\n",
    "\n",
    "pred_fixed_3<-fit_inla3$summary.fitted.values$mean-event_term_3-station_term_3\n",
    "\n",
    "tot_3<-df_flatfile$PGA - pred_fixed_3"
   ]
  },
  {
   "cell_type": "code",
   "execution_count": null,
   "id": "50f31891",
   "metadata": {},
   "outputs": [],
   "source": [
    "df_plot<-data.frame(dET_3,sig)\n",
    "res <- cor.test(df_plot$dET_3, df_plot$sig, \n",
    "                method = \"pearson\")\n",
    "res\n",
    "ggscatter(df_plot, x = \"dET_3\", y = \"sig\", \n",
    "              add = \"reg.line\", conf.int = FALSE, \n",
    "              cor.coef = TRUE, cor.method = \"pearson\",\n",
    "              xlab = \"Event Term\", ylab = \"Stress Drop\")"
   ]
  },
  {
   "cell_type": "markdown",
   "id": "bccaa0ed",
   "metadata": {},
   "source": [
    "# Comparison of total residauls"
   ]
  },
  {
   "cell_type": "code",
   "execution_count": null,
   "id": "854adb76",
   "metadata": {},
   "outputs": [],
   "source": [
    "vs <- exp(lnvs)*Vref\n",
    "df_plot=data.frame(M,R,vs,y,eqid,stid,pred_trugman,tot_trugman,pred_fixed_0,tot_0,pred_fixed_1,tot_1,pred_fixed_2,tot_2)"
   ]
  },
  {
   "cell_type": "code",
   "execution_count": null,
   "id": "1c8cfa31",
   "metadata": {},
   "outputs": [],
   "source": [
    "p<-ggplot(df_plot,aes(x = M))+\n",
    "  geom_point(aes(y = tot_trugman), colour = \"red\") + \n",
    "  geom_point(aes(y = tot_0), colour = \"gold\") + \n",
    "  geom_point(aes(y = tot_1), colour = \"blue\") + \n",
    "  geom_point(aes(y = tot_2), colour = \"green\")\n",
    "  geom_point(aes(y = tot_3), colour = \"cyan\")\n",
    "\n",
    "p"
   ]
  },
  {
   "cell_type": "code",
   "execution_count": null,
   "id": "c08f4a65",
   "metadata": {},
   "outputs": [],
   "source": [
    "p<-ggplot(df_plot,aes(x = tot_trugman))+\n",
    "  geom_point(aes(y = tot_0), colour = \"red\") + \n",
    "  geom_point(aes(y = tot_1), colour = \"blue\") + \n",
    "  geom_point(aes(y = tot_2), colour = \"green\") +\n",
    "  geom_point(aes(y = tot_3), colour = \"cyan\") +\n",
    "  geom_abline(intercept = 0,slope = 1,color='black')\n",
    "p\n"
   ]
  },
  {
   "cell_type": "code",
   "execution_count": null,
   "id": "eff1d213",
   "metadata": {},
   "outputs": [],
   "source": [
    "newcsv <- data.frame(pred_fixed_0,event_term_0,tot_0,pred_fixed_1,event_term_1,station_term_1,tot_1,pred_fixed_2,event_term_2,tot_2,pred_fixed_3,event_term_3,station_term_3,tot_3)\n",
    "outcsv <- cbind(df_flatfile,newcsv)\n",
    "write.csv(outcsv,\"data/compile_all.csv\", row.names = FALSE)"
   ]
  },
  {
   "cell_type": "code",
   "execution_count": null,
   "id": "be10b3a2",
   "metadata": {},
   "outputs": [],
   "source": []
  }
 ],
 "metadata": {
  "kernelspec": {
   "display_name": "R",
   "language": "R",
   "name": "ir"
  },
  "language_info": {
   "codemirror_mode": "r",
   "file_extension": ".r",
   "mimetype": "text/x-r-source",
   "name": "R",
   "pygments_lexer": "r",
   "version": "3.6.3"
  }
 },
 "nbformat": 4,
 "nbformat_minor": 5
}
